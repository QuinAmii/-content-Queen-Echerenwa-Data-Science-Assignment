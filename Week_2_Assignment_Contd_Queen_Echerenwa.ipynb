{
  "nbformat": 4,
  "nbformat_minor": 0,
  "metadata": {
    "colab": {
      "name": "Week 2 Assignment Contd Queen Echerenwa",
      "provenance": [],
      "collapsed_sections": [],
      "authorship_tag": "ABX9TyOpFeweDTn4o0r244G8Pa5y",
      "include_colab_link": true
    },
    "kernelspec": {
      "name": "python3",
      "display_name": "Python 3"
    },
    "language_info": {
      "name": "python"
    }
  },
  "cells": [
    {
      "cell_type": "markdown",
      "metadata": {
        "id": "view-in-github",
        "colab_type": "text"
      },
      "source": [
        "<a href=\"https://colab.research.google.com/github/QuinAmii/-content-Queen-Echerenwa-Data-Science-Assignment/blob/main/Week_2_Assignment_Contd_Queen_Echerenwa.ipynb\" target=\"_parent\"><img src=\"https://colab.research.google.com/assets/colab-badge.svg\" alt=\"Open In Colab\"/></a>"
      ]
    },
    {
      "cell_type": "code",
      "metadata": {
        "colab": {
          "base_uri": "https://localhost:8080/"
        },
        "id": "d02d8fH-L-P5",
        "outputId": "ae7917c3-7d11-4d23-f82a-51150fbd643a"
      },
      "source": [
        "#Working with a range funtion\n",
        "my_range = range(3, 15)\n",
        "list(my_range)"
      ],
      "execution_count": 1,
      "outputs": [
        {
          "output_type": "execute_result",
          "data": {
            "text/plain": [
              "[3, 4, 5, 6, 7, 8, 9, 10, 11, 12, 13, 14]"
            ]
          },
          "metadata": {
            "tags": []
          },
          "execution_count": 1
        }
      ]
    },
    {
      "cell_type": "code",
      "metadata": {
        "id": "7Jns9jjMPjx0"
      },
      "source": [
        "import numpy as np "
      ],
      "execution_count": 3,
      "outputs": []
    },
    {
      "cell_type": "code",
      "metadata": {
        "colab": {
          "base_uri": "https://localhost:8080/"
        },
        "id": "30ivqqq9P2k4",
        "outputId": "ab89023c-8785-45b6-e712-ac3df508363b"
      },
      "source": [
        "list1 = [3, 4, 5, 6, 7, 8, 9, 10, 11, 12, 13, 14]\n",
        "array1 = np.array(list1)\n",
        "\n",
        "print(array1)"
      ],
      "execution_count": 5,
      "outputs": [
        {
          "output_type": "stream",
          "text": [
            "[ 3  4  5  6  7  8  9 10 11 12 13 14]\n"
          ],
          "name": "stdout"
        }
      ]
    },
    {
      "cell_type": "code",
      "metadata": {
        "colab": {
          "base_uri": "https://localhost:8080/"
        },
        "id": "-OUfkXZKQlwV",
        "outputId": "7a0b7c12-7e94-40e4-ce29-c0580748c3c5"
      },
      "source": [
        "print (\"Data type = \" + str(array1.dtype))\n",
        "print (\"Array type = \" + str(type(array1)))"
      ],
      "execution_count": 8,
      "outputs": [
        {
          "output_type": "stream",
          "text": [
            "Data type = int64\n",
            "Array type = <class 'numpy.ndarray'>\n"
          ],
          "name": "stdout"
        }
      ]
    },
    {
      "cell_type": "code",
      "metadata": {
        "id": "yKEI0LQgU3cp"
      },
      "source": [
        "import numpy as np"
      ],
      "execution_count": 11,
      "outputs": []
    },
    {
      "cell_type": "code",
      "metadata": {
        "colab": {
          "base_uri": "https://localhost:8080/"
        },
        "id": "XQy3h101ZqIN",
        "outputId": "cce892a7-96f6-4608-dbf7-b4f7b9bb39d4"
      },
      "source": [
        "#Convert 1d array to list\n",
        "array1 = np.array([3, 4, 5, 6, 7, 8, 9, 10, 11, 12, 13, 14])\n",
        "print(f'NumPy Array:\\n{array1}')\n",
        "\n",
        "list1 = array1.tolist()\n",
        "print(f'List: {list1}')\n"
      ],
      "execution_count": 12,
      "outputs": [
        {
          "output_type": "stream",
          "text": [
            "NumPy Array:\n",
            "[ 3  4  5  6  7  8  9 10 11 12 13 14]\n",
            "List: [3, 4, 5, 6, 7, 8, 9, 10, 11, 12, 13, 14]\n"
          ],
          "name": "stdout"
        }
      ]
    }
  ]
}